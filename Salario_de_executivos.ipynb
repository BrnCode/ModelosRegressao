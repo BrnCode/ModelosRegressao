{
  "nbformat": 4,
  "nbformat_minor": 0,
  "metadata": {
    "colab": {
      "provenance": []
    },
    "kernelspec": {
      "name": "python3",
      "display_name": "Python 3"
    },
    "language_info": {
      "name": "python"
    }
  },
  "cells": [
    {
      "cell_type": "markdown",
      "source": [
        "# Salario de executivos\n",
        "\n",
        "Nesse estudo de caso será considerado o salário de 220 executivos (145 homens e 75 mulheres), de diversas idades e tempo de experiencia no cargo.\n",
        "\n",
        "As informações estão distribuidas da seguinte maneira:\n",
        "- Sexo (1 para masculino e 2 para feminino)\n",
        "- Anos de Experiencia \n",
        "- Posição na empresa (varia de 1 a 9, quanto maior o valor mais alta a posição)\n"
      ],
      "metadata": {
        "id": "tPY3sK7xaGgT"
      }
    },
    {
      "cell_type": "code",
      "source": [
        "import pandas as pd\n",
        "import numpy as np\n",
        "import statsmodels.api as sm"
      ],
      "metadata": {
        "id": "qzB6iJy1g0uP"
      },
      "execution_count": 2,
      "outputs": []
    },
    {
      "cell_type": "code",
      "source": [
        "df = pd.read_csv('salary.csv', names=['salario', 'sexo', 'posicao', 'exp'])\n",
        "df.head()"
      ],
      "metadata": {
        "colab": {
          "base_uri": "https://localhost:8080/",
          "height": 206
        },
        "id": "_SBhEhM7g4fH",
        "outputId": "31e87d33-d3c1-4fba-a707-bd624b09713d"
      },
      "execution_count": 3,
      "outputs": [
        {
          "output_type": "execute_result",
          "data": {
            "text/plain": [
              "   salario       sexo  posicao   exp\n",
              "0      148  Masculino        7  16.7\n",
              "1      165  Masculino        7   6.7\n",
              "2      145  Masculino        5  14.8\n",
              "3      139   Feminino        7  13.9\n",
              "4      142   Feminino        6   6.4"
            ],
            "text/html": [
              "\n",
              "  <div id=\"df-77ec723d-46db-41e0-aa7d-df129753845d\">\n",
              "    <div class=\"colab-df-container\">\n",
              "      <div>\n",
              "<style scoped>\n",
              "    .dataframe tbody tr th:only-of-type {\n",
              "        vertical-align: middle;\n",
              "    }\n",
              "\n",
              "    .dataframe tbody tr th {\n",
              "        vertical-align: top;\n",
              "    }\n",
              "\n",
              "    .dataframe thead th {\n",
              "        text-align: right;\n",
              "    }\n",
              "</style>\n",
              "<table border=\"1\" class=\"dataframe\">\n",
              "  <thead>\n",
              "    <tr style=\"text-align: right;\">\n",
              "      <th></th>\n",
              "      <th>salario</th>\n",
              "      <th>sexo</th>\n",
              "      <th>posicao</th>\n",
              "      <th>exp</th>\n",
              "    </tr>\n",
              "  </thead>\n",
              "  <tbody>\n",
              "    <tr>\n",
              "      <th>0</th>\n",
              "      <td>148</td>\n",
              "      <td>Masculino</td>\n",
              "      <td>7</td>\n",
              "      <td>16.7</td>\n",
              "    </tr>\n",
              "    <tr>\n",
              "      <th>1</th>\n",
              "      <td>165</td>\n",
              "      <td>Masculino</td>\n",
              "      <td>7</td>\n",
              "      <td>6.7</td>\n",
              "    </tr>\n",
              "    <tr>\n",
              "      <th>2</th>\n",
              "      <td>145</td>\n",
              "      <td>Masculino</td>\n",
              "      <td>5</td>\n",
              "      <td>14.8</td>\n",
              "    </tr>\n",
              "    <tr>\n",
              "      <th>3</th>\n",
              "      <td>139</td>\n",
              "      <td>Feminino</td>\n",
              "      <td>7</td>\n",
              "      <td>13.9</td>\n",
              "    </tr>\n",
              "    <tr>\n",
              "      <th>4</th>\n",
              "      <td>142</td>\n",
              "      <td>Feminino</td>\n",
              "      <td>6</td>\n",
              "      <td>6.4</td>\n",
              "    </tr>\n",
              "  </tbody>\n",
              "</table>\n",
              "</div>\n",
              "      <button class=\"colab-df-convert\" onclick=\"convertToInteractive('df-77ec723d-46db-41e0-aa7d-df129753845d')\"\n",
              "              title=\"Convert this dataframe to an interactive table.\"\n",
              "              style=\"display:none;\">\n",
              "        \n",
              "  <svg xmlns=\"http://www.w3.org/2000/svg\" height=\"24px\"viewBox=\"0 0 24 24\"\n",
              "       width=\"24px\">\n",
              "    <path d=\"M0 0h24v24H0V0z\" fill=\"none\"/>\n",
              "    <path d=\"M18.56 5.44l.94 2.06.94-2.06 2.06-.94-2.06-.94-.94-2.06-.94 2.06-2.06.94zm-11 1L8.5 8.5l.94-2.06 2.06-.94-2.06-.94L8.5 2.5l-.94 2.06-2.06.94zm10 10l.94 2.06.94-2.06 2.06-.94-2.06-.94-.94-2.06-.94 2.06-2.06.94z\"/><path d=\"M17.41 7.96l-1.37-1.37c-.4-.4-.92-.59-1.43-.59-.52 0-1.04.2-1.43.59L10.3 9.45l-7.72 7.72c-.78.78-.78 2.05 0 2.83L4 21.41c.39.39.9.59 1.41.59.51 0 1.02-.2 1.41-.59l7.78-7.78 2.81-2.81c.8-.78.8-2.07 0-2.86zM5.41 20L4 18.59l7.72-7.72 1.47 1.35L5.41 20z\"/>\n",
              "  </svg>\n",
              "      </button>\n",
              "      \n",
              "  <style>\n",
              "    .colab-df-container {\n",
              "      display:flex;\n",
              "      flex-wrap:wrap;\n",
              "      gap: 12px;\n",
              "    }\n",
              "\n",
              "    .colab-df-convert {\n",
              "      background-color: #E8F0FE;\n",
              "      border: none;\n",
              "      border-radius: 50%;\n",
              "      cursor: pointer;\n",
              "      display: none;\n",
              "      fill: #1967D2;\n",
              "      height: 32px;\n",
              "      padding: 0 0 0 0;\n",
              "      width: 32px;\n",
              "    }\n",
              "\n",
              "    .colab-df-convert:hover {\n",
              "      background-color: #E2EBFA;\n",
              "      box-shadow: 0px 1px 2px rgba(60, 64, 67, 0.3), 0px 1px 3px 1px rgba(60, 64, 67, 0.15);\n",
              "      fill: #174EA6;\n",
              "    }\n",
              "\n",
              "    [theme=dark] .colab-df-convert {\n",
              "      background-color: #3B4455;\n",
              "      fill: #D2E3FC;\n",
              "    }\n",
              "\n",
              "    [theme=dark] .colab-df-convert:hover {\n",
              "      background-color: #434B5C;\n",
              "      box-shadow: 0px 1px 3px 1px rgba(0, 0, 0, 0.15);\n",
              "      filter: drop-shadow(0px 1px 2px rgba(0, 0, 0, 0.3));\n",
              "      fill: #FFFFFF;\n",
              "    }\n",
              "  </style>\n",
              "\n",
              "      <script>\n",
              "        const buttonEl =\n",
              "          document.querySelector('#df-77ec723d-46db-41e0-aa7d-df129753845d button.colab-df-convert');\n",
              "        buttonEl.style.display =\n",
              "          google.colab.kernel.accessAllowed ? 'block' : 'none';\n",
              "\n",
              "        async function convertToInteractive(key) {\n",
              "          const element = document.querySelector('#df-77ec723d-46db-41e0-aa7d-df129753845d');\n",
              "          const dataTable =\n",
              "            await google.colab.kernel.invokeFunction('convertToInteractive',\n",
              "                                                     [key], {});\n",
              "          if (!dataTable) return;\n",
              "\n",
              "          const docLinkHtml = 'Like what you see? Visit the ' +\n",
              "            '<a target=\"_blank\" href=https://colab.research.google.com/notebooks/data_table.ipynb>data table notebook</a>'\n",
              "            + ' to learn more about interactive tables.';\n",
              "          element.innerHTML = '';\n",
              "          dataTable['output_type'] = 'display_data';\n",
              "          await google.colab.output.renderOutput(dataTable, element);\n",
              "          const docLink = document.createElement('div');\n",
              "          docLink.innerHTML = docLinkHtml;\n",
              "          element.appendChild(docLink);\n",
              "        }\n",
              "      </script>\n",
              "    </div>\n",
              "  </div>\n",
              "  "
            ]
          },
          "metadata": {},
          "execution_count": 3
        }
      ]
    },
    {
      "cell_type": "markdown",
      "source": [
        "O livro nos mostra na analise prévia que em graficos de dispersão que o crescimento do salário é acompanhado pelo tempo de experiencia e crescimento na posição, tanto para homens quanto para mulheres:"
      ],
      "metadata": {
        "id": "MVoV6TT8kCYR"
      }
    },
    {
      "cell_type": "code",
      "source": [
        "import plotly.graph_objs as go\n",
        "from plotly.subplots import make_subplots\n",
        "\n",
        "# Dados de exemplo\n",
        "x1 = df['exp']\n",
        "y1 = df['salario']\n",
        "sexo1 = df['sexo'] == 'Feminino'  # cria uma lista de booleanos para indicar o sexo correspondente a cada ponto\n",
        "cores1 = ['red' if s else 'blue' for s in sexo1]  # atribui a cor vermelha para o sexo feminino e azul para o sexo masculino\n",
        "\n",
        "x2 = df['posicao']\n",
        "y2 = df['salario']\n",
        "sexo2 = df['sexo'] == 'Feminino'  # cria uma lista de booleanos para indicar o sexo correspondente a cada ponto\n",
        "cores2 = ['red' if s else 'blue' for s in sexo2]  # atribui a cor vermelha para o sexo feminino e azul para o sexo masculino\n",
        "\n",
        "# Criação dos objetos Scatter\n",
        "scatter1 = go.Scatter(\n",
        "    x=x1,\n",
        "    y=y1,\n",
        "    mode='markers',\n",
        "    name='Gráfico 1',\n",
        "    marker=dict(color=cores1)  # atribui as cores de acordo com o sexo\n",
        ")\n",
        "\n",
        "scatter2 = go.Scatter(\n",
        "    x=x2,\n",
        "    y=y2,\n",
        "    mode='markers',\n",
        "    name='Gráfico 2',\n",
        "    marker=dict(color=cores2)  # atribui as cores de acordo com o sexo\n",
        ")\n",
        "\n",
        "# Criação dos objetos Scatter\n",
        "scatter1 = go.Scatter(\n",
        "    x=x1,\n",
        "    y=y1,\n",
        "    mode='markers',\n",
        "    name='Gráfico 1',\n",
        "    marker=dict(color=cores1)  # atribui as cores de acordo com o sexo\n",
        ")\n",
        "\n",
        "scatter2 = go.Scatter(\n",
        "    x=x2,\n",
        "    y=y2,\n",
        "    mode='markers',\n",
        "    name='Gráfico 2',\n",
        "    marker=dict(color=cores2)  # atribui as cores de acordo com o sexo\n",
        ")\n",
        "\n",
        "# Criação do objeto Layout\n",
        "layout = go.Layout(\n",
        "    #title='Dois gráficos de dispersão',\n",
        "    xaxis=dict(title='Salário (dolar)'),  # título do eixo x do primeiro gráfico\n",
        "    yaxis=dict(title='Experiência (anos)'),  # título do eixo y do primeiro gráfico\n",
        "    xaxis2=dict(title='Salário (dolar)'),  # título do eixo x do segundo gráfico\n",
        "    yaxis2=dict(title='Posição na Empresa'),  # título do eixo y do segundo gráfico\n",
        ")\n",
        "\n",
        "# Criação do objeto Figure\n",
        "fig = make_subplots(rows=1, cols=2)\n",
        "fig.add_trace(scatter1, row=1, col=1)\n",
        "fig.add_trace(scatter2, row=1, col=2)\n",
        "\n",
        "fig.update_layout(layout)\n",
        "\n",
        "fig.show()"
      ],
      "metadata": {
        "colab": {
          "base_uri": "https://localhost:8080/",
          "height": 542
        },
        "id": "9XsIbOiNkmGm",
        "outputId": "1f77c7de-0eca-4c71-fa68-e2eff70ae5da"
      },
      "execution_count": 4,
      "outputs": [
        {
          "output_type": "display_data",
          "data": {
            "text/html": [
              "<html>\n",
              "<head><meta charset=\"utf-8\" /></head>\n",
              "<body>\n",
              "    <div>            <script src=\"https://cdnjs.cloudflare.com/ajax/libs/mathjax/2.7.5/MathJax.js?config=TeX-AMS-MML_SVG\"></script><script type=\"text/javascript\">if (window.MathJax && window.MathJax.Hub && window.MathJax.Hub.Config) {window.MathJax.Hub.Config({SVG: {font: \"STIX-Web\"}});}</script>                <script type=\"text/javascript\">window.PlotlyConfig = {MathJaxConfig: 'local'};</script>\n",
              "        <script src=\"https://cdn.plot.ly/plotly-2.18.2.min.js\"></script>                <div id=\"405d97c4-de59-4c34-b784-b7cbd5927727\" class=\"plotly-graph-div\" style=\"height:525px; width:100%;\"></div>            <script type=\"text/javascript\">                                    window.PLOTLYENV=window.PLOTLYENV || {};                                    if (document.getElementById(\"405d97c4-de59-4c34-b784-b7cbd5927727\")) {                    Plotly.newPlot(                        \"405d97c4-de59-4c34-b784-b7cbd5927727\",                        [{\"marker\":{\"color\":[\"blue\",\"blue\",\"blue\",\"red\",\"red\",\"blue\",\"red\",\"blue\",\"blue\",\"blue\",\"blue\",\"red\",\"blue\",\"blue\",\"red\",\"blue\",\"blue\",\"blue\",\"blue\",\"blue\",\"blue\",\"blue\",\"red\",\"blue\",\"blue\",\"red\",\"red\",\"blue\",\"blue\",\"blue\",\"blue\",\"blue\",\"red\",\"blue\",\"red\",\"red\",\"red\",\"blue\",\"blue\",\"blue\",\"blue\",\"blue\",\"blue\",\"red\",\"blue\",\"blue\",\"red\",\"red\",\"blue\",\"blue\",\"blue\",\"red\",\"blue\",\"blue\",\"red\",\"red\",\"blue\",\"blue\",\"blue\",\"blue\",\"red\",\"blue\",\"red\",\"blue\",\"red\",\"red\",\"blue\",\"blue\",\"blue\",\"blue\",\"blue\",\"red\",\"blue\",\"blue\",\"red\",\"blue\",\"red\",\"red\",\"blue\",\"blue\",\"red\",\"blue\",\"red\",\"red\",\"blue\",\"blue\",\"blue\",\"red\",\"red\",\"red\",\"blue\",\"red\",\"blue\",\"red\",\"red\",\"blue\",\"blue\",\"red\",\"red\",\"blue\",\"red\",\"blue\",\"blue\",\"blue\",\"blue\",\"blue\",\"blue\",\"blue\",\"blue\",\"blue\",\"red\",\"red\",\"blue\",\"blue\",\"red\",\"blue\",\"red\",\"blue\",\"blue\",\"blue\",\"blue\",\"blue\",\"red\",\"blue\",\"blue\",\"red\",\"blue\",\"blue\",\"red\",\"blue\",\"blue\",\"blue\",\"blue\",\"blue\",\"blue\",\"red\",\"blue\",\"red\",\"red\",\"blue\",\"blue\",\"blue\",\"red\",\"blue\",\"red\",\"red\",\"blue\",\"red\",\"red\",\"blue\",\"blue\",\"red\",\"blue\",\"red\",\"red\",\"blue\",\"red\",\"red\",\"blue\",\"red\",\"blue\",\"blue\",\"red\",\"blue\",\"blue\",\"blue\",\"blue\",\"red\",\"red\",\"blue\",\"blue\",\"blue\",\"blue\",\"blue\",\"blue\",\"red\",\"blue\",\"blue\",\"red\",\"red\",\"blue\",\"red\",\"blue\",\"blue\",\"blue\",\"blue\",\"blue\",\"blue\",\"blue\",\"blue\",\"red\",\"blue\",\"blue\",\"blue\",\"red\",\"blue\",\"blue\",\"red\",\"red\",\"blue\",\"blue\",\"blue\",\"blue\",\"red\",\"blue\",\"blue\",\"red\",\"blue\",\"blue\",\"red\",\"blue\",\"blue\",\"blue\",\"red\",\"red\",\"blue\",\"blue\",\"blue\",\"blue\",\"blue\"]},\"mode\":\"markers\",\"name\":\"Gr\\u00e1fico 1\",\"x\":[16.7,6.7,14.8,13.9,6.4,9.1,8.5,18.2,13.0,21.6,5.9,9.1,4.7,11.5,8.5,22.4,7.0,12.2,11.8,12.0,5.7,8.0,10.0,26.1,11.2,7.7,8.1,11.4,10.2,2.4,14.5,22.2,5.1,11.2,5.9,2.4,6.6,11.0,8.9,8.1,17.0,6.3,9.5,1.7,9.3,20.3,6.1,7.6,20.0,12.2,11.2,5.4,14.2,11.7,11.0,4.1,6.0,18.6,15.4,7.2,5.5,6.1,18.6,5.0,5.8,7.4,11.9,5.3,4.3,10.5,6.5,7.7,9.7,7.6,4.6,16.2,3.3,6.3,7.7,3.9,9.9,5.6,7.1,12.6,16.0,4.8,13.1,10.9,4.8,3.6,8.9,12.9,12.5,9.6,6.3,14.2,7.0,4.3,2.3,9.4,7.8,14.8,11.7,16.7,7.5,13.4,12.0,11.3,16.9,10.8,11.0,9.9,9.4,3.4,2.9,15.9,9.2,7.3,9.3,6.7,5.1,13.4,12.6,14.0,11.0,7.2,15.1,16.5,4.1,15.7,8.3,11.0,11.0,13.5,10.3,5.2,7.3,7.7,2.6,16.2,6.6,22.7,8.3,22.2,8.7,5.5,10.9,7.5,4.1,13.0,21.5,7.6,6.1,6.7,5.8,8.5,4.2,13.2,9.5,4.3,11.5,13.4,8.4,7.9,6.6,11.7,15.3,5.4,4.3,15.6,5.3,7.1,11.7,10.3,21.8,9.5,11.9,25.3,8.5,4.3,18.3,6.8,10.5,9.7,14.8,11.9,16.2,11.6,22.5,12.5,21.7,10.1,9.0,13.0,4.2,8.2,22.0,4.7,8.0,17.2,9.0,11.8,19.2,7.8,20.8,13.5,13.4,21.1,21.4,2.1,12.0,13.8,22.0,2.3,4.6,8.9,8.8,15.1,4.7,16.5],\"y\":[148,165,145,139,142,144,128,143,157,150,115,133,128,154,121,150,133,149,145,145,149,151,148,142,127,146,134,139,145,110,125,148,135,159,153,131,142,132,153,160,148,155,164,140,134,132,151,124,164,139,158,137,143,142,129,142,140,137,145,133,146,130,162,142,137,129,132,123,138,143,153,153,164,147,135,153,134,166,128,147,138,152,135,143,136,153,149,139,146,133,141,159,151,162,137,155,135,145,127,139,120,150,131,164,149,145,132,119,138,126,147,137,137,138,124,153,163,128,144,134,142,133,146,162,171,135,133,154,149,153,125,157,120,145,141,150,144,138,122,155,128,145,138,126,146,144,150,170,118,162,164,138,139,152,140,159,120,137,156,146,131,148,172,165,133,152,150,150,118,138,129,147,165,141,149,148,150,152,129,152,141,149,124,112,154,132,148,139,151,139,163,162,155,157,131,143,150,151,140,158,145,119,146,143,151,132,129,129,165,120,133,147,164,127,132,146,147,156,132,161],\"type\":\"scatter\",\"xaxis\":\"x\",\"yaxis\":\"y\"},{\"marker\":{\"color\":[\"blue\",\"blue\",\"blue\",\"red\",\"red\",\"blue\",\"red\",\"blue\",\"blue\",\"blue\",\"blue\",\"red\",\"blue\",\"blue\",\"red\",\"blue\",\"blue\",\"blue\",\"blue\",\"blue\",\"blue\",\"blue\",\"red\",\"blue\",\"blue\",\"red\",\"red\",\"blue\",\"blue\",\"blue\",\"blue\",\"blue\",\"red\",\"blue\",\"red\",\"red\",\"red\",\"blue\",\"blue\",\"blue\",\"blue\",\"blue\",\"blue\",\"red\",\"blue\",\"blue\",\"red\",\"red\",\"blue\",\"blue\",\"blue\",\"red\",\"blue\",\"blue\",\"red\",\"red\",\"blue\",\"blue\",\"blue\",\"blue\",\"red\",\"blue\",\"red\",\"blue\",\"red\",\"red\",\"blue\",\"blue\",\"blue\",\"blue\",\"blue\",\"red\",\"blue\",\"blue\",\"red\",\"blue\",\"red\",\"red\",\"blue\",\"blue\",\"red\",\"blue\",\"red\",\"red\",\"blue\",\"blue\",\"blue\",\"red\",\"red\",\"red\",\"blue\",\"red\",\"blue\",\"red\",\"red\",\"blue\",\"blue\",\"red\",\"red\",\"blue\",\"red\",\"blue\",\"blue\",\"blue\",\"blue\",\"blue\",\"blue\",\"blue\",\"blue\",\"blue\",\"red\",\"red\",\"blue\",\"blue\",\"red\",\"blue\",\"red\",\"blue\",\"blue\",\"blue\",\"blue\",\"blue\",\"red\",\"blue\",\"blue\",\"red\",\"blue\",\"blue\",\"red\",\"blue\",\"blue\",\"blue\",\"blue\",\"blue\",\"blue\",\"red\",\"blue\",\"red\",\"red\",\"blue\",\"blue\",\"blue\",\"red\",\"blue\",\"red\",\"red\",\"blue\",\"red\",\"red\",\"blue\",\"blue\",\"red\",\"blue\",\"red\",\"red\",\"blue\",\"red\",\"red\",\"blue\",\"red\",\"blue\",\"blue\",\"red\",\"blue\",\"blue\",\"blue\",\"blue\",\"red\",\"red\",\"blue\",\"blue\",\"blue\",\"blue\",\"blue\",\"blue\",\"red\",\"blue\",\"blue\",\"red\",\"red\",\"blue\",\"red\",\"blue\",\"blue\",\"blue\",\"blue\",\"blue\",\"blue\",\"blue\",\"blue\",\"red\",\"blue\",\"blue\",\"blue\",\"red\",\"blue\",\"blue\",\"red\",\"red\",\"blue\",\"blue\",\"blue\",\"blue\",\"red\",\"blue\",\"blue\",\"red\",\"blue\",\"blue\",\"red\",\"blue\",\"blue\",\"blue\",\"red\",\"red\",\"blue\",\"blue\",\"blue\",\"blue\",\"blue\"]},\"mode\":\"markers\",\"name\":\"Gr\\u00e1fico 2\",\"x\":[7,7,5,7,6,5,3,6,7,7,2,3,4,6,3,8,3,5,4,7,6,6,5,7,4,5,2,5,6,2,3,8,4,7,4,2,6,6,5,7,7,6,6,5,4,5,5,2,9,4,8,3,4,5,4,4,5,5,5,4,6,3,8,3,4,3,3,3,5,7,7,5,7,3,4,7,3,7,2,6,3,5,4,4,7,6,6,3,4,3,5,7,5,7,3,7,4,5,3,4,2,7,4,9,6,5,3,3,6,3,6,5,3,4,2,6,6,3,5,3,5,4,5,8,7,3,4,7,5,8,4,7,3,6,5,6,5,4,1,8,3,6,4,5,6,4,6,6,2,8,7,3,4,6,2,6,2,4,6,5,3,6,7,7,4,5,8,6,1,5,3,6,8,5,8,5,5,8,3,6,4,5,4,3,7,4,7,5,7,6,9,6,7,7,4,6,6,6,5,9,6,3,7,3,7,4,3,6,8,2,3,6,9,3,4,5,5,7,4,7],\"y\":[148,165,145,139,142,144,128,143,157,150,115,133,128,154,121,150,133,149,145,145,149,151,148,142,127,146,134,139,145,110,125,148,135,159,153,131,142,132,153,160,148,155,164,140,134,132,151,124,164,139,158,137,143,142,129,142,140,137,145,133,146,130,162,142,137,129,132,123,138,143,153,153,164,147,135,153,134,166,128,147,138,152,135,143,136,153,149,139,146,133,141,159,151,162,137,155,135,145,127,139,120,150,131,164,149,145,132,119,138,126,147,137,137,138,124,153,163,128,144,134,142,133,146,162,171,135,133,154,149,153,125,157,120,145,141,150,144,138,122,155,128,145,138,126,146,144,150,170,118,162,164,138,139,152,140,159,120,137,156,146,131,148,172,165,133,152,150,150,118,138,129,147,165,141,149,148,150,152,129,152,141,149,124,112,154,132,148,139,151,139,163,162,155,157,131,143,150,151,140,158,145,119,146,143,151,132,129,129,165,120,133,147,164,127,132,146,147,156,132,161],\"type\":\"scatter\",\"xaxis\":\"x2\",\"yaxis\":\"y2\"}],                        {\"template\":{\"data\":{\"histogram2dcontour\":[{\"type\":\"histogram2dcontour\",\"colorbar\":{\"outlinewidth\":0,\"ticks\":\"\"},\"colorscale\":[[0.0,\"#0d0887\"],[0.1111111111111111,\"#46039f\"],[0.2222222222222222,\"#7201a8\"],[0.3333333333333333,\"#9c179e\"],[0.4444444444444444,\"#bd3786\"],[0.5555555555555556,\"#d8576b\"],[0.6666666666666666,\"#ed7953\"],[0.7777777777777778,\"#fb9f3a\"],[0.8888888888888888,\"#fdca26\"],[1.0,\"#f0f921\"]]}],\"choropleth\":[{\"type\":\"choropleth\",\"colorbar\":{\"outlinewidth\":0,\"ticks\":\"\"}}],\"histogram2d\":[{\"type\":\"histogram2d\",\"colorbar\":{\"outlinewidth\":0,\"ticks\":\"\"},\"colorscale\":[[0.0,\"#0d0887\"],[0.1111111111111111,\"#46039f\"],[0.2222222222222222,\"#7201a8\"],[0.3333333333333333,\"#9c179e\"],[0.4444444444444444,\"#bd3786\"],[0.5555555555555556,\"#d8576b\"],[0.6666666666666666,\"#ed7953\"],[0.7777777777777778,\"#fb9f3a\"],[0.8888888888888888,\"#fdca26\"],[1.0,\"#f0f921\"]]}],\"heatmap\":[{\"type\":\"heatmap\",\"colorbar\":{\"outlinewidth\":0,\"ticks\":\"\"},\"colorscale\":[[0.0,\"#0d0887\"],[0.1111111111111111,\"#46039f\"],[0.2222222222222222,\"#7201a8\"],[0.3333333333333333,\"#9c179e\"],[0.4444444444444444,\"#bd3786\"],[0.5555555555555556,\"#d8576b\"],[0.6666666666666666,\"#ed7953\"],[0.7777777777777778,\"#fb9f3a\"],[0.8888888888888888,\"#fdca26\"],[1.0,\"#f0f921\"]]}],\"heatmapgl\":[{\"type\":\"heatmapgl\",\"colorbar\":{\"outlinewidth\":0,\"ticks\":\"\"},\"colorscale\":[[0.0,\"#0d0887\"],[0.1111111111111111,\"#46039f\"],[0.2222222222222222,\"#7201a8\"],[0.3333333333333333,\"#9c179e\"],[0.4444444444444444,\"#bd3786\"],[0.5555555555555556,\"#d8576b\"],[0.6666666666666666,\"#ed7953\"],[0.7777777777777778,\"#fb9f3a\"],[0.8888888888888888,\"#fdca26\"],[1.0,\"#f0f921\"]]}],\"contourcarpet\":[{\"type\":\"contourcarpet\",\"colorbar\":{\"outlinewidth\":0,\"ticks\":\"\"}}],\"contour\":[{\"type\":\"contour\",\"colorbar\":{\"outlinewidth\":0,\"ticks\":\"\"},\"colorscale\":[[0.0,\"#0d0887\"],[0.1111111111111111,\"#46039f\"],[0.2222222222222222,\"#7201a8\"],[0.3333333333333333,\"#9c179e\"],[0.4444444444444444,\"#bd3786\"],[0.5555555555555556,\"#d8576b\"],[0.6666666666666666,\"#ed7953\"],[0.7777777777777778,\"#fb9f3a\"],[0.8888888888888888,\"#fdca26\"],[1.0,\"#f0f921\"]]}],\"surface\":[{\"type\":\"surface\",\"colorbar\":{\"outlinewidth\":0,\"ticks\":\"\"},\"colorscale\":[[0.0,\"#0d0887\"],[0.1111111111111111,\"#46039f\"],[0.2222222222222222,\"#7201a8\"],[0.3333333333333333,\"#9c179e\"],[0.4444444444444444,\"#bd3786\"],[0.5555555555555556,\"#d8576b\"],[0.6666666666666666,\"#ed7953\"],[0.7777777777777778,\"#fb9f3a\"],[0.8888888888888888,\"#fdca26\"],[1.0,\"#f0f921\"]]}],\"mesh3d\":[{\"type\":\"mesh3d\",\"colorbar\":{\"outlinewidth\":0,\"ticks\":\"\"}}],\"scatter\":[{\"fillpattern\":{\"fillmode\":\"overlay\",\"size\":10,\"solidity\":0.2},\"type\":\"scatter\"}],\"parcoords\":[{\"type\":\"parcoords\",\"line\":{\"colorbar\":{\"outlinewidth\":0,\"ticks\":\"\"}}}],\"scatterpolargl\":[{\"type\":\"scatterpolargl\",\"marker\":{\"colorbar\":{\"outlinewidth\":0,\"ticks\":\"\"}}}],\"bar\":[{\"error_x\":{\"color\":\"#2a3f5f\"},\"error_y\":{\"color\":\"#2a3f5f\"},\"marker\":{\"line\":{\"color\":\"#E5ECF6\",\"width\":0.5},\"pattern\":{\"fillmode\":\"overlay\",\"size\":10,\"solidity\":0.2}},\"type\":\"bar\"}],\"scattergeo\":[{\"type\":\"scattergeo\",\"marker\":{\"colorbar\":{\"outlinewidth\":0,\"ticks\":\"\"}}}],\"scatterpolar\":[{\"type\":\"scatterpolar\",\"marker\":{\"colorbar\":{\"outlinewidth\":0,\"ticks\":\"\"}}}],\"histogram\":[{\"marker\":{\"pattern\":{\"fillmode\":\"overlay\",\"size\":10,\"solidity\":0.2}},\"type\":\"histogram\"}],\"scattergl\":[{\"type\":\"scattergl\",\"marker\":{\"colorbar\":{\"outlinewidth\":0,\"ticks\":\"\"}}}],\"scatter3d\":[{\"type\":\"scatter3d\",\"line\":{\"colorbar\":{\"outlinewidth\":0,\"ticks\":\"\"}},\"marker\":{\"colorbar\":{\"outlinewidth\":0,\"ticks\":\"\"}}}],\"scattermapbox\":[{\"type\":\"scattermapbox\",\"marker\":{\"colorbar\":{\"outlinewidth\":0,\"ticks\":\"\"}}}],\"scatterternary\":[{\"type\":\"scatterternary\",\"marker\":{\"colorbar\":{\"outlinewidth\":0,\"ticks\":\"\"}}}],\"scattercarpet\":[{\"type\":\"scattercarpet\",\"marker\":{\"colorbar\":{\"outlinewidth\":0,\"ticks\":\"\"}}}],\"carpet\":[{\"aaxis\":{\"endlinecolor\":\"#2a3f5f\",\"gridcolor\":\"white\",\"linecolor\":\"white\",\"minorgridcolor\":\"white\",\"startlinecolor\":\"#2a3f5f\"},\"baxis\":{\"endlinecolor\":\"#2a3f5f\",\"gridcolor\":\"white\",\"linecolor\":\"white\",\"minorgridcolor\":\"white\",\"startlinecolor\":\"#2a3f5f\"},\"type\":\"carpet\"}],\"table\":[{\"cells\":{\"fill\":{\"color\":\"#EBF0F8\"},\"line\":{\"color\":\"white\"}},\"header\":{\"fill\":{\"color\":\"#C8D4E3\"},\"line\":{\"color\":\"white\"}},\"type\":\"table\"}],\"barpolar\":[{\"marker\":{\"line\":{\"color\":\"#E5ECF6\",\"width\":0.5},\"pattern\":{\"fillmode\":\"overlay\",\"size\":10,\"solidity\":0.2}},\"type\":\"barpolar\"}],\"pie\":[{\"automargin\":true,\"type\":\"pie\"}]},\"layout\":{\"autotypenumbers\":\"strict\",\"colorway\":[\"#636efa\",\"#EF553B\",\"#00cc96\",\"#ab63fa\",\"#FFA15A\",\"#19d3f3\",\"#FF6692\",\"#B6E880\",\"#FF97FF\",\"#FECB52\"],\"font\":{\"color\":\"#2a3f5f\"},\"hovermode\":\"closest\",\"hoverlabel\":{\"align\":\"left\"},\"paper_bgcolor\":\"white\",\"plot_bgcolor\":\"#E5ECF6\",\"polar\":{\"bgcolor\":\"#E5ECF6\",\"angularaxis\":{\"gridcolor\":\"white\",\"linecolor\":\"white\",\"ticks\":\"\"},\"radialaxis\":{\"gridcolor\":\"white\",\"linecolor\":\"white\",\"ticks\":\"\"}},\"ternary\":{\"bgcolor\":\"#E5ECF6\",\"aaxis\":{\"gridcolor\":\"white\",\"linecolor\":\"white\",\"ticks\":\"\"},\"baxis\":{\"gridcolor\":\"white\",\"linecolor\":\"white\",\"ticks\":\"\"},\"caxis\":{\"gridcolor\":\"white\",\"linecolor\":\"white\",\"ticks\":\"\"}},\"coloraxis\":{\"colorbar\":{\"outlinewidth\":0,\"ticks\":\"\"}},\"colorscale\":{\"sequential\":[[0.0,\"#0d0887\"],[0.1111111111111111,\"#46039f\"],[0.2222222222222222,\"#7201a8\"],[0.3333333333333333,\"#9c179e\"],[0.4444444444444444,\"#bd3786\"],[0.5555555555555556,\"#d8576b\"],[0.6666666666666666,\"#ed7953\"],[0.7777777777777778,\"#fb9f3a\"],[0.8888888888888888,\"#fdca26\"],[1.0,\"#f0f921\"]],\"sequentialminus\":[[0.0,\"#0d0887\"],[0.1111111111111111,\"#46039f\"],[0.2222222222222222,\"#7201a8\"],[0.3333333333333333,\"#9c179e\"],[0.4444444444444444,\"#bd3786\"],[0.5555555555555556,\"#d8576b\"],[0.6666666666666666,\"#ed7953\"],[0.7777777777777778,\"#fb9f3a\"],[0.8888888888888888,\"#fdca26\"],[1.0,\"#f0f921\"]],\"diverging\":[[0,\"#8e0152\"],[0.1,\"#c51b7d\"],[0.2,\"#de77ae\"],[0.3,\"#f1b6da\"],[0.4,\"#fde0ef\"],[0.5,\"#f7f7f7\"],[0.6,\"#e6f5d0\"],[0.7,\"#b8e186\"],[0.8,\"#7fbc41\"],[0.9,\"#4d9221\"],[1,\"#276419\"]]},\"xaxis\":{\"gridcolor\":\"white\",\"linecolor\":\"white\",\"ticks\":\"\",\"title\":{\"standoff\":15},\"zerolinecolor\":\"white\",\"automargin\":true,\"zerolinewidth\":2},\"yaxis\":{\"gridcolor\":\"white\",\"linecolor\":\"white\",\"ticks\":\"\",\"title\":{\"standoff\":15},\"zerolinecolor\":\"white\",\"automargin\":true,\"zerolinewidth\":2},\"scene\":{\"xaxis\":{\"backgroundcolor\":\"#E5ECF6\",\"gridcolor\":\"white\",\"linecolor\":\"white\",\"showbackground\":true,\"ticks\":\"\",\"zerolinecolor\":\"white\",\"gridwidth\":2},\"yaxis\":{\"backgroundcolor\":\"#E5ECF6\",\"gridcolor\":\"white\",\"linecolor\":\"white\",\"showbackground\":true,\"ticks\":\"\",\"zerolinecolor\":\"white\",\"gridwidth\":2},\"zaxis\":{\"backgroundcolor\":\"#E5ECF6\",\"gridcolor\":\"white\",\"linecolor\":\"white\",\"showbackground\":true,\"ticks\":\"\",\"zerolinecolor\":\"white\",\"gridwidth\":2}},\"shapedefaults\":{\"line\":{\"color\":\"#2a3f5f\"}},\"annotationdefaults\":{\"arrowcolor\":\"#2a3f5f\",\"arrowhead\":0,\"arrowwidth\":1},\"geo\":{\"bgcolor\":\"white\",\"landcolor\":\"#E5ECF6\",\"subunitcolor\":\"white\",\"showland\":true,\"showlakes\":true,\"lakecolor\":\"white\"},\"title\":{\"x\":0.05},\"mapbox\":{\"style\":\"light\"}}},\"xaxis\":{\"anchor\":\"y\",\"domain\":[0.0,0.45],\"title\":{\"text\":\"Sal\\u00e1rio (dolar)\"}},\"yaxis\":{\"anchor\":\"x\",\"domain\":[0.0,1.0],\"title\":{\"text\":\"Experi\\u00eancia (anos)\"}},\"xaxis2\":{\"anchor\":\"y2\",\"domain\":[0.55,1.0],\"title\":{\"text\":\"Sal\\u00e1rio (dolar)\"}},\"yaxis2\":{\"anchor\":\"x2\",\"domain\":[0.0,1.0],\"title\":{\"text\":\"Posi\\u00e7\\u00e3o na Empresa\"}}},                        {\"responsive\": true}                    ).then(function(){\n",
              "                            \n",
              "var gd = document.getElementById('405d97c4-de59-4c34-b784-b7cbd5927727');\n",
              "var x = new MutationObserver(function (mutations, observer) {{\n",
              "        var display = window.getComputedStyle(gd).display;\n",
              "        if (!display || display === 'none') {{\n",
              "            console.log([gd, 'removed!']);\n",
              "            Plotly.purge(gd);\n",
              "            observer.disconnect();\n",
              "        }}\n",
              "}});\n",
              "\n",
              "// Listen for the removal of the full notebook cells\n",
              "var notebookContainer = gd.closest('#notebook-container');\n",
              "if (notebookContainer) {{\n",
              "    x.observe(notebookContainer, {childList: true});\n",
              "}}\n",
              "\n",
              "// Listen for the clearing of the current output cell\n",
              "var outputEl = gd.closest('.output');\n",
              "if (outputEl) {{\n",
              "    x.observe(outputEl, {childList: true});\n",
              "}}\n",
              "\n",
              "                        })                };                            </script>        </div>\n",
              "</body>\n",
              "</html>"
            ]
          },
          "metadata": {}
        }
      ]
    },
    {
      "cell_type": "markdown",
      "source": [
        "Aqui conseguimos ver o crescimento mais claro na posição da empresa por salário e o comportamento menos linear de crescimento no experiencia por salário e com uma dispersão grande.\n",
        "\n",
        "Baseado no segundo grafico, é possivel imaginar uma regressão do tipo \n",
        "\n",
        "\n",
        "\n",
        "$$ yi = α + β1sexoi + β2experi + β3posici + \u000fEi $$\n",
        "\n",
        "Mas esse tipo de regressão não seria totalmente honesta em descrever o todo pois isso seria baseado em uma analise de duas variaveis deixando de lado as demais. A grande sacado do metodo de Akaike é conseguir entender o comportamento do todo.\n",
        "\n",
        "O método de Akaike é uma abordagem de seleção de modelo que visa encontrar o modelo que melhor representa os dados, levando em conta tanto a adequação do modelo quanto a complexidade do mesmo. A ideia principal é que um modelo bom deve ser capaz de descrever bem os dados observados, mas não deve ser muito complexo, de modo a evitar o overfitting.\n",
        "\n",
        "Para selecionar o modelo mais adequado, o método de Akaike utiliza o Critério de Informação de Akaike (AIC), que é uma medida que combina a qualidade de ajuste do modelo aos dados com sua complexidade, expressa pelo número de parâmetros que o modelo possui. O AIC é uma medida de informação relativa, o que significa que o valor do AIC de um modelo só faz sentido em relação ao valor do AIC de outros modelos ajustados aos mesmos dados.\n",
        "\n",
        "O cálculo do AIC envolve a estimativa da função de verossimilhança do modelo, que é uma medida de quão bem o modelo representa os dados observados. A partir da função de verossimilhança, o AIC é calculado como \n",
        "\n",
        "\n",
        "$$ 2k - 2ln(L) $$\n",
        "\n",
        "\n",
        "onde k é o número de parâmetros do modelo e L é a máxima verossimilhança do modelo.\n",
        "\n",
        "O objetivo do método de Akaike é encontrar o modelo com o menor valor de AIC, o que indica o melhor compromisso entre a adequação do modelo e sua complexidade. Em outras palavras, o modelo com o menor AIC é aquele que melhor descreve os dados observados com o menor número possível de parâmetros.\n"
      ],
      "metadata": {
        "id": "mip8oMyzkg04"
      }
    },
    {
      "cell_type": "code",
      "source": [
        "df.dtypes"
      ],
      "metadata": {
        "colab": {
          "base_uri": "https://localhost:8080/"
        },
        "id": "NM9aCHfcrfdO",
        "outputId": "daed3867-abfe-48b2-8dde-378f59b66de2"
      },
      "execution_count": 5,
      "outputs": [
        {
          "output_type": "execute_result",
          "data": {
            "text/plain": [
              "salario      int64\n",
              "sexo        object\n",
              "posicao      int64\n",
              "exp        float64\n",
              "dtype: object"
            ]
          },
          "metadata": {},
          "execution_count": 5
        }
      ]
    },
    {
      "cell_type": "code",
      "source": [
        "# mapeia a categoria 'M' para o valor 0 e a categoria 'F' para o valor 1\n",
        "df['sexo'] = df['sexo'].map({'Masculino': 0, 'Feminino': 1})\n",
        "\n",
        "print(df)"
      ],
      "metadata": {
        "colab": {
          "base_uri": "https://localhost:8080/"
        },
        "id": "6XJUmsq2rvXJ",
        "outputId": "c3aa7dfd-1525-415d-da1f-e2f2d6462157"
      },
      "execution_count": 6,
      "outputs": [
        {
          "output_type": "stream",
          "name": "stdout",
          "text": [
            "     salario  sexo  posicao   exp\n",
            "0        148     0        7  16.7\n",
            "1        165     0        7   6.7\n",
            "2        145     0        5  14.8\n",
            "3        139     1        7  13.9\n",
            "4        142     1        6   6.4\n",
            "..       ...   ...      ...   ...\n",
            "215      146     0        5   8.9\n",
            "216      147     0        5   8.8\n",
            "217      156     0        7  15.1\n",
            "218      132     0        4   4.7\n",
            "219      161     0        7  16.5\n",
            "\n",
            "[220 rows x 4 columns]\n"
          ]
        }
      ]
    },
    {
      "cell_type": "markdown",
      "source": [
        "# Implementando o metodo"
      ],
      "metadata": {
        "id": "gVfbU0k2r-Ym"
      }
    },
    {
      "cell_type": "markdown",
      "source": [
        "No livro, foi feita uma engenharia de feature pra descobri qual seria a melhor combinação das variaveis que daria o menor Akaike para nosso modelo."
      ],
      "metadata": {
        "id": "j-8jju8x2C4V"
      }
    },
    {
      "cell_type": "code",
      "source": [
        "import itertools\n",
        "\n",
        "# Crie uma lista com todas as combinações possíveis de duas variáveis\n",
        "combinacoes = list(itertools.combinations(['sexo', 'posicao', 'exp'], 2))\n",
        "\n",
        "# Crie uma variável para armazenar o menor AIC encontrado\n",
        "melhor_aic = float('inf')\n",
        "\n",
        "# Loop pelas combinações e ajuste o modelo para cada uma\n",
        "for comb in combinacoes:\n",
        "    # Crie uma nova coluna com a combinação das variáveis\n",
        "    nome_coluna = comb[0] + '_' + comb[1]\n",
        "    df[nome_coluna] = df[comb[0]] * df[comb[1]]\n",
        "\n",
        "    # Ajuste o modelo e calcule o AIC\n",
        "    X = df[['sexo', 'posicao', 'exp', nome_coluna]]\n",
        "    X = sm.add_constant(X)\n",
        "    modelo = sm.OLS(y, X)\n",
        "    resultado = modelo.fit()\n",
        "    aic = resultado.aic\n",
        "\n",
        "    # Verifique se essa combinação tem um AIC menor que o atual melhor AIC\n",
        "    if aic < melhor_aic:\n",
        "        melhor_aic = aic\n",
        "        melhor_combinacao = comb\n",
        "        melhor_nome_coluna = nome_coluna\n",
        "\n",
        "# Imprima a melhor combinação e o nome da nova coluna\n",
        "print(\"Melhor combinação:\", melhor_combinacao)\n",
        "print(\"Nome da nova coluna:\", melhor_nome_coluna)\n"
      ],
      "metadata": {
        "colab": {
          "base_uri": "https://localhost:8080/"
        },
        "id": "j7jRZ_wG17wJ",
        "outputId": "e0b9ffc6-014c-47c4-e18c-e8ed7c8a9eb2"
      },
      "execution_count": 35,
      "outputs": [
        {
          "output_type": "stream",
          "name": "stdout",
          "text": [
            "Melhor combinação: ('posicao', 'exp')\n",
            "Nome da nova coluna: posicao_exp\n"
          ]
        }
      ]
    },
    {
      "cell_type": "markdown",
      "source": [
        "Com isso conseguimos os mesmo valores de coeficientes e uma constante proxima no livro a constate deu 108,042"
      ],
      "metadata": {
        "id": "rqTfXvT126a1"
      }
    },
    {
      "cell_type": "code",
      "source": [
        "print('Constante:', resultado.params[0])\n",
        "print('Coeficientes:', resultado.params[1:])"
      ],
      "metadata": {
        "colab": {
          "base_uri": "https://localhost:8080/"
        },
        "id": "hhLRJTVH2lCz",
        "outputId": "7d477b33-6903-4cc0-b777-8fc205d4553e"
      },
      "execution_count": 38,
      "outputs": [
        {
          "output_type": "stream",
          "name": "stdout",
          "text": [
            "Constante: 105.23116936866123\n",
            "Coeficientes: sexo           2.810991\n",
            "posicao        8.095985\n",
            "exp            0.336507\n",
            "posicao_exp   -0.134932\n",
            "dtype: float64\n"
          ]
        }
      ]
    },
    {
      "cell_type": "code",
      "source": [
        "# Aplicando no modelo treinado \n",
        "exp = 5\n",
        "posicao = 4\n",
        "sexo = 0  # 0 corresponde a homem e 1 a mulher\n",
        "\n",
        "# Criando um array com os valores das variáveis explicativas para o novo exemplo\n",
        "novos_dados = [sexo, posicao, exp, posicao*exp, 1] # adicionando a constante da regressão\n",
        "\n",
        "# Fazendo a previsão do salário para o novo exemplo\n",
        "salario_previsto = resultado.predict(novos_dados)\n",
        "\n",
        "print(f\"O salário previsto para um executivo homem com 5 anos de experiência e na posição 4 é de ${salario_previsto[0]:.2f}\")\n"
      ],
      "metadata": {
        "colab": {
          "base_uri": "https://localhost:8080/"
        },
        "id": "lmATL2RHykic",
        "outputId": "59282df7-ed3f-41e8-8d69-747348683814"
      },
      "execution_count": 45,
      "outputs": [
        {
          "output_type": "stream",
          "name": "stdout",
          "text": [
            "O salário previsto para um executivo homem com 5 anos de experiência e na posição 4 é de $58.32\n"
          ]
        }
      ]
    },
    {
      "cell_type": "markdown",
      "source": [
        "Não sei o que saiu de errado professor!!!"
      ],
      "metadata": {
        "id": "r5b8mbXB4TJS"
      }
    }
  ]
}